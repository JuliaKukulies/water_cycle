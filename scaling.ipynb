{
 "cells": [
  {
   "cell_type": "markdown",
   "metadata": {},
   "source": [
    "# Temperature - precipitation scaling \n",
    "\n",
    "Investigating changes of extreme precipitation with increases in temperature and moisture. \n"
   ]
  },
  {
   "cell_type": "code",
   "execution_count": 1,
   "metadata": {},
   "outputs": [],
   "source": [
    "import numpy as np \n",
    "import xarray as xr \n",
    "import atmotrans as atm\n",
    "import matplotlib.pyplot as plt "
   ]
  },
  {
   "cell_type": "code",
   "execution_count": 2,
   "metadata": {},
   "outputs": [],
   "source": [
    "#WRF \n",
    "wrf= xr.open_dataset('/media/juli/Data/projects/moisture_transport/moisture_transport/wrftp/data/wrf_mean_q_pressure_1989-1999.nc')\n",
    "wrf_q= wrf.mixr[0]\n",
    "wrf_pressure = wrf.pressure.values\n",
    "wrf= xr.open_dataset('/media/juli/Data/projects/moisture_transport/moisture_transport/wrftp/data/wrf_mean_q_pressure_2000-2017.nc')\n",
    "wrf_q_recent= wrf.mixr[0]\n",
    "\n",
    "\n",
    "# ERA \n",
    "era = xr.open_dataset('/media/juli/Data/projects/moisture_transport/moisture_transport/cache/pressure-monthly/era5_mean_q_1980-1999.nc')\n",
    "era_q= era.q[0]\n",
    "era_pressure = era.level.values\n",
    "era = xr.open_dataset('/media/juli/Data/projects/moisture_transport/moisture_transport/cache/pressure-monthly/era5_mean_q_2000-2017.nc')\n",
    "era_q_recent= era.q[0]\n",
    "# surface pressure for column-integration \n",
    "era_sp= xr.open_dataset('/media/juli/Data/projects/moisture_transport/moisture_transport/cache/srfc-monthly/sfrc_pressure_1980-1999.nc').sp[0]/100\n",
    "era_sp_recent = xr.open_dataset('/media/juli/Data/projects/moisture_transport/moisture_transport/cache/srfc-monthly/sfrc_pressure_2000-2017.nc').sp[0]/100"
   ]
  },
  {
   "cell_type": "markdown",
   "metadata": {},
   "source": [
    "## Changes in total integrated column water vapour ERA5 vs. WRF9km "
   ]
  },
  {
   "cell_type": "code",
   "execution_count": 19,
   "metadata": {},
   "outputs": [],
   "source": [
    "era_tcwv_diff = atm.column_integration(era_pressure, (era_sp.values+era_sp_recent.values)/2, era_q_recent.values - era_q.values)\n",
    "\n",
    "era_tcwv_recent = atm.column_integration(era_pressure, era_sp_recent.values ,era_q_recent.values )\n",
    "era_tcwv= atm.column_integration(era_pressure, era_sp.values,  era_q.values)\n"
   ]
  },
  {
   "cell_type": "code",
   "execution_count": null,
   "metadata": {},
   "outputs": [],
   "source": []
  },
  {
   "cell_type": "code",
   "execution_count": null,
   "metadata": {},
   "outputs": [],
   "source": []
  },
  {
   "cell_type": "code",
   "execution_count": null,
   "metadata": {},
   "outputs": [],
   "source": []
  },
  {
   "cell_type": "code",
   "execution_count": null,
   "metadata": {},
   "outputs": [],
   "source": []
  },
  {
   "cell_type": "code",
   "execution_count": null,
   "metadata": {},
   "outputs": [],
   "source": []
  },
  {
   "cell_type": "markdown",
   "metadata": {},
   "source": [
    "## Binning \n",
    "\n",
    "- Attribute each hourly precipitation value of wet events to daily surface temperature bin of 2C bin width (temperature should represent air mass and should therefoe not be on a too short time scale)\n",
    "- calculate percentiles for each bin size "
   ]
  },
  {
   "cell_type": "code",
   "execution_count": 2,
   "metadata": {},
   "outputs": [],
   "source": [
    "keys =  np.arange(-30,40,2).astype(str)\n",
    "keys = list(map('b'.__add__,keys))\n",
    "bins = dict.fromkeys(keys, np.array(()))\n",
    "bins_con = dict.fromkeys(keys, np.array(()))\n",
    "bins_div = dict.fromkeys(keys, np.array(()))\n",
    "bins_tp = dict.fromkeys(keys, np.array(()))"
   ]
  },
  {
   "cell_type": "code",
   "execution_count": 3,
   "metadata": {},
   "outputs": [],
   "source": [
    "testdata = xr.open_dataset('/media/juli/Data/projects/data/ERA5/ERA5_2002-07_PT_GlHrly.nc')\n",
    "\n",
    "# extract domain and fix unit (from m to mm per hour)                                                                                                  \n",
    "lc= testdata.coords[\"longitude\"]\n",
    "la= testdata.coords[\"latitude\"]\n",
    "precip_tp= testdata.tp.loc[dict(longitude=lc[(lc > 50) & (lc < 135)], latitude=la[(la > 10) & (la < 60)])] * 1000\n",
    "temp_tp= testdata.t2m.loc[dict(longitude=lc[(lc > 50) & (lc < 135)], latitude=la[(la > 10) & (la < 60)])] - 273.15\n"
   ]
  },
  {
   "cell_type": "code",
   "execution_count": 4,
   "metadata": {},
   "outputs": [],
   "source": [
    "# apply additional regional selections \n",
    "vimd = xr.open_dataset('../moisture_transport/moisture_transport/cache/era5_monthlymean_clim_moistdiv.nc').vimd[0]\n"
   ]
  },
  {
   "cell_type": "code",
   "execution_count": 6,
   "metadata": {},
   "outputs": [],
   "source": [
    "# loop through days in month \n",
    "for d in np.arange(1,31):\n",
    "    # get mean daily surface temperature\n",
    "    daily_temp = temp_tp.sel(time= (temp_tp['time.day'] == 10) ).mean(dim='time')\n",
    "    wet_hours = precip_tp.where(precip_tp > 0.1)\n",
    "    for i in np.arange(-30,40,2):\n",
    "        ii = i+2\n",
    "        bin_values=wet_hours.where( (daily_temp >= i)  &  (daily_temp <= ii)    ).data\n",
    "        values = bin_values[~np.isnan(bin_values)]\n",
    "\n",
    "        # attribute to bin\n",
    "        bins['b' + str(i)] = np.append(bins['b' + str(i)], values)\n",
    "        \n",
    "        # convergence zone\n",
    "        bin_values = wet_hours.where( (daily_temp >= i)  &  (daily_temp <= ii)  )\n",
    "        convergence  = bin_values.where(-vimd > 0 ).data\n",
    "        values = convergence[~np.isnan(convergence)]\n",
    "        bins_con['b' + str(i)] = np.append(bins_con['b' + str(i)], values)\n",
    "        \n",
    "        # divergence zone\n",
    "        divergence  = bin_values.where(-vimd < 0 ).data\n",
    "        values = divergence[~np.isnan(divergence)]\n",
    "        bins_div['b' + str(i)] = np.append(bins_div['b' + str(i)], values)"
   ]
  },
  {
   "cell_type": "code",
   "execution_count": 7,
   "metadata": {},
   "outputs": [],
   "source": [
    "# save distributions \n",
    "\n",
    "xbins = xr.Dataset(bins)\n",
    "xbins.to_netcdf('cc_bins_2002.nc') \n",
    "\n",
    "xbins = xr.Dataset(bins_con)\n",
    "xbins.to_netcdf('cc_bins_con_2002.nc')\n",
    "\n",
    "xbins = xr.Dataset(bins_div)\n",
    "xbins.to_netcdf('cc_bins_div_2002.nc')"
   ]
  },
  {
   "cell_type": "code",
   "execution_count": 315,
   "metadata": {},
   "outputs": [],
   "source": [
    "percentiles99 = np.zeros((len(bins.keys())))\n",
    "percentiles95 = np.zeros((len(bins.keys())))\n",
    "percentiles90 = np.zeros((len(bins.keys())))\n",
    "\n",
    "for idx,i in enumerate(np.arange(-30,40,2)): \n",
    "    if bins_con[i].size > 0:\n",
    "        percentiles99[idx] = np.percentile(bins_con[i], 99 ) \n",
    "        percentiles95[idx] =  np.percentile(bins_con[i], 95 ) \n",
    "        percentiles90[idx] = np.percentile(bins_con[i], 90 ) "
   ]
  },
  {
   "cell_type": "code",
   "execution_count": 316,
   "metadata": {},
   "outputs": [
    {
     "data": {
      "image/png": "[encoded data removed]",
      "text/plain": [
       "<Figure size 432x288 with 1 Axes>"
      ]
     },
     "metadata": {
      "needs_background": "light"
     },
     "output_type": "display_data"
    }
   ],
   "source": [
    "plt.plot(np.arange(-10,38,2), percentiles99[10:-1])\n",
    "plt.plot(np.arange(-10,38,2), percentiles95[10:-1])\n",
    "plt.plot(np.arange(-10,38,2), percentiles90[10:-1])\n",
    "\n",
    "#plt.plot(np.arange(-11,38,2), cc(25, percentiles90[0]))\n",
    "plt.show()"
   ]
  },
  {
   "cell_type": "code",
   "execution_count": 317,
   "metadata": {},
   "outputs": [],
   "source": [
    "percentiles99 = np.zeros((len(bins.keys())))\n",
    "percentiles95 = np.zeros((len(bins.keys())))\n",
    "percentiles90 = np.zeros((len(bins.keys())))\n",
    "\n",
    "for idx,i in enumerate(np.arange(-30,40,2)): \n",
    "    if bins_div[i].size > 0:\n",
    "        percentiles99[idx] = np.percentile(bins_div[i], 99 ) \n",
    "        percentiles95[idx] =  np.percentile(bins_div[i], 95 ) \n",
    "        percentiles90[idx] = np.percentile(bins_div[i], 90 )  "
   ]
  },
  {
   "cell_type": "code",
   "execution_count": 318,
   "metadata": {},
   "outputs": [
    {
     "data": {
      "image/png": "[encoded data removed]",
      "text/plain": [
       "<Figure size 432x288 with 1 Axes>"
      ]
     },
     "metadata": {
      "needs_background": "light"
     },
     "output_type": "display_data"
    }
   ],
   "source": [
    "plt.plot(np.arange(-10,38,2), percentiles99[10:-1])\n",
    "plt.plot(np.arange(-10,38,2), percentiles95[10:-1])\n",
    "plt.plot(np.arange(-10,38,2), percentiles90[10:-1])\n",
    "#plt.plot(np.arange(-11,38,2), cc(25, percentiles90[0]))\n",
    "plt.show()"
   ]
  },
  {
   "cell_type": "code",
   "execution_count": 215,
   "metadata": {},
   "outputs": [],
   "source": [
    "def cc(iterations, start):\n",
    "    values = [start]\n",
    "    for e in np.arange(iterations):\n",
    "        val= values[-1]\n",
    "        values.append(val + 0.07*val)\n",
    "    \n",
    "    return values "
   ]
  },
  {
   "cell_type": "markdown",
   "metadata": {},
   "source": [
    "## Calculate scaling rates for each grid point "
   ]
  },
  {
   "cell_type": "code",
   "execution_count": null,
   "metadata": {},
   "outputs": [],
   "source": []
  },
  {
   "cell_type": "code",
   "execution_count": null,
   "metadata": {},
   "outputs": [],
   "source": []
  },
  {
   "cell_type": "code",
   "execution_count": null,
   "metadata": {},
   "outputs": [],
   "source": []
  },
  {
   "cell_type": "code",
   "execution_count": null,
   "metadata": {},
   "outputs": [],
   "source": []
  },
  {
   "cell_type": "code",
   "execution_count": null,
   "metadata": {},
   "outputs": [],
   "source": []
  }
 ],
 "metadata": {
  "kernelspec": {
   "display_name": "Python 3",
   "language": "python",
   "name": "python3"
  },
  "language_info": {
   "codemirror_mode": {
    "name": "ipython",
    "version": 3
   },
   "file_extension": ".py",
   "mimetype": "text/x-python",
   "name": "python",
   "nbconvert_exporter": "python",
   "pygments_lexer": "ipython3",
   "version": "3.6.7"
  }
 },
 "nbformat": 4,
 "nbformat_minor": 2
}
