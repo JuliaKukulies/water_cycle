{
 "cells": [
  {
   "cell_type": "markdown",
   "metadata": {},
   "source": [
    "# Thermodynamic and dynamic contributions"
   ]
  },
  {
   "cell_type": "code",
   "execution_count": 8,
   "metadata": {},
   "outputs": [],
   "source": [
    "import numpy as np \n",
    "import xarray as xr\n",
    "import matplotlib.pyplot as plt\n",
    "import warnings\n",
    "warnings.filterwarnings('ignore')\n",
    "import glob\n",
    "import atmotrans as atm"
   ]
  },
  {
   "cell_type": "code",
   "execution_count": 17,
   "metadata": {},
   "outputs": [],
   "source": [
    "###  seasonal means  ###\n",
    "time = np.arange(1979,2020)\n",
    "f= '../moisture_transport/moisture_transport/cache/srfc-monthly/moistdiv_annual_means.nc'\n",
    "m = xr.open_dataset(f)\n",
    "mfc = - m['vimd'][:,:-1,:-1] \n",
    "mfc_clim = np.nanmean(mfc.values, axis = 0)\n",
    "f= '../moisture_transport/moisture_transport/cache/pressure-monthly/era5-pressure-levels-monthly-climatology.nc'\n",
    "climatology = xr.open_dataset(f)\n",
    "pressure = climatology.level.values\n",
    "# surface pressure files for each year \n",
    "sp_files= glob.glob('../moisture_transport/moisture_transport/cache/srfc-monthly/srfc_pressure_????.nc')\n",
    "sp_files.sort()\n",
    "# spacing \n",
    "dlat,dlon = atm.get_spacing(data.latitude.values, data.longitude.values)\n",
    "\n",
    "### anomalies ###\n",
    "f= '../moisture_transport/moisture_transport/cache/srfc-monthly/moistdiv_anomalies.nc'\n",
    "data = xr.open_dataset(f)\n",
    "mfc_anom = data['vimd'][:,:-1,:-1] \n",
    "anomalies = glob.glob('../moisture_transport/moisture_transport/cache/pressure-monthly/*anomaly*.nc')\n",
    "anomalies.sort()"
   ]
  },
  {
   "cell_type": "code",
   "execution_count": 24,
   "metadata": {},
   "outputs": [
    {
     "ename": "NameError",
     "evalue": "name 'atm' is not defined",
     "output_type": "error",
     "traceback": [
      "\u001b[0;31m---------------------------------------------------------------------------\u001b[0m",
      "\u001b[0;31mNameError\u001b[0m                                 Traceback (most recent call last)",
      "\u001b[0;32m<ipython-input-24-f4824c7d5e8d>\u001b[0m in \u001b[0;36m<module>\u001b[0;34m\u001b[0m\n\u001b[1;32m     24\u001b[0m \u001b[0;34m\u001b[0m\u001b[0m\n\u001b[1;32m     25\u001b[0m     \u001b[0;31m# calculate divergences\u001b[0m\u001b[0;34m\u001b[0m\u001b[0;34m\u001b[0m\u001b[0;34m\u001b[0m\u001b[0m\n\u001b[0;32m---> 26\u001b[0;31m     \u001b[0mdyna_div\u001b[0m \u001b[0;34m=\u001b[0m \u001b[0matm\u001b[0m\u001b[0;34m.\u001b[0m\u001b[0mdivergence\u001b[0m\u001b[0;34m(\u001b[0m\u001b[0mclimatology\u001b[0m\u001b[0;34m,\u001b[0m \u001b[0mqc_ua\u001b[0m\u001b[0;34m,\u001b[0m \u001b[0mqc_va\u001b[0m\u001b[0;34m)\u001b[0m\u001b[0;34m\u001b[0m\u001b[0;34m\u001b[0m\u001b[0m\n\u001b[0m\u001b[1;32m     27\u001b[0m     \u001b[0mthermo_div\u001b[0m \u001b[0;34m=\u001b[0m \u001b[0matm\u001b[0m\u001b[0;34m.\u001b[0m\u001b[0mdivergence\u001b[0m\u001b[0;34m(\u001b[0m\u001b[0mclimatology\u001b[0m\u001b[0;34m,\u001b[0m \u001b[0mqa_uc\u001b[0m\u001b[0;34m,\u001b[0m \u001b[0mqa_vc\u001b[0m\u001b[0;34m)\u001b[0m\u001b[0;34m\u001b[0m\u001b[0;34m\u001b[0m\u001b[0m\n\u001b[1;32m     28\u001b[0m \u001b[0;34m\u001b[0m\u001b[0m\n",
      "\u001b[0;32m/media/juli/Data/projects/water_cycle/atmotrans.py\u001b[0m in \u001b[0;36mdivergence\u001b[0;34m(data, qu, qv)\u001b[0m\n\u001b[1;32m    286\u001b[0m     \"\"\"\n\u001b[1;32m    287\u001b[0m     \u001b[0;32mimport\u001b[0m \u001b[0mwrf\u001b[0m\u001b[0;34m\u001b[0m\u001b[0;34m\u001b[0m\u001b[0m\n\u001b[0;32m--> 288\u001b[0;31m     \u001b[0mdlat\u001b[0m\u001b[0;34m,\u001b[0m \u001b[0mdlon\u001b[0m \u001b[0;34m=\u001b[0m \u001b[0matm\u001b[0m\u001b[0;34m.\u001b[0m\u001b[0mget_spacing\u001b[0m\u001b[0;34m(\u001b[0m\u001b[0mdata\u001b[0m\u001b[0;34m.\u001b[0m\u001b[0mlatitude\u001b[0m\u001b[0;34m.\u001b[0m\u001b[0mvalues\u001b[0m\u001b[0;34m,\u001b[0m \u001b[0mdata\u001b[0m\u001b[0;34m.\u001b[0m\u001b[0mlongitude\u001b[0m\u001b[0;34m.\u001b[0m\u001b[0mvalues\u001b[0m\u001b[0;34m)\u001b[0m\u001b[0;34m\u001b[0m\u001b[0;34m\u001b[0m\u001b[0m\n\u001b[0m\u001b[1;32m    289\u001b[0m     \u001b[0mudiff\u001b[0m\u001b[0;34m=\u001b[0m \u001b[0matm\u001b[0m\u001b[0;34m.\u001b[0m\u001b[0mderivative_u\u001b[0m\u001b[0;34m(\u001b[0m\u001b[0mqu\u001b[0m\u001b[0;34m,\u001b[0m \u001b[0mdlon\u001b[0m\u001b[0;34m)\u001b[0m\u001b[0;34m\u001b[0m\u001b[0;34m\u001b[0m\u001b[0m\n\u001b[1;32m    290\u001b[0m     \u001b[0mvdiff\u001b[0m\u001b[0;34m=\u001b[0m \u001b[0matm\u001b[0m\u001b[0;34m.\u001b[0m\u001b[0mderivative_v\u001b[0m\u001b[0;34m(\u001b[0m\u001b[0mqv\u001b[0m\u001b[0;34m,\u001b[0m \u001b[0mdlat\u001b[0m\u001b[0;34m)\u001b[0m\u001b[0;34m\u001b[0m\u001b[0;34m\u001b[0m\u001b[0m\n",
      "\u001b[0;31mNameError\u001b[0m: name 'atm' is not defined"
     ]
    }
   ],
   "source": [
    "thermodynamic= np.array(())\n",
    "dynamic = np.array(())\n",
    "\n",
    "# read in files for each year \n",
    "for y in np.arange(41): \n",
    "    # clim values \n",
    "    q_c= climatology.q[0].values\n",
    "    u_c = climatology.u[0].values\n",
    "    v_c= climatology.v[0].values\n",
    "    \n",
    "    ds = xr.open_dataset(anomalies[y])\n",
    "    # get annual surface pressure \n",
    "    sp = xr.open_dataset(sp_files[y]).sp[0].values / 100\n",
    "    q_a= ds.q[0]\n",
    "    u_a= ds.u[0]\n",
    "    v_a= ds.v[0]\n",
    "        \n",
    "    # product for thermodynamic and dynamic component \n",
    "    qc_ua = q_c* u_a \n",
    "    qc_va = q_c* v_a\n",
    "        \n",
    "    qa_uc = q_a*u_c\n",
    "    qa_vc = q_a*v_c\n",
    "    \n",
    "    # calculate divergences\n",
    "    dyna_div = atm.divergence(climatology, qc_ua, qc_va)\n",
    "    thermo_div = atm.divergence(climatology, qa_uc, qa_vc)\n",
    "        \n",
    "    # column-integration   \n",
    "    dyna = column_integration(climatology, sp, dyna_div)\n",
    "    thermo = column_integration(cliamtology, sp, thermo_div)\n",
    "\n",
    "    # calculate regional average and append to timeseries \n",
    "    th =  atm.weighted_mean(thermo)[0]\n",
    "    dy =  atm.weighted_mean(dyna)[0]\n",
    "    \n",
    "    # append to annual timeseries \n",
    "    thermodynamic = np.append(thermodynamic,th)\n",
    "    dynamic = np.append(dynamic,dy)\n"
   ]
  },
  {
   "cell_type": "code",
   "execution_count": null,
   "metadata": {},
   "outputs": [],
   "source": []
  }
 ],
 "metadata": {
  "kernelspec": {
   "display_name": "Python 3",
   "language": "python",
   "name": "python3"
  },
  "language_info": {
   "codemirror_mode": {
    "name": "ipython",
    "version": 3
   },
   "file_extension": ".py",
   "mimetype": "text/x-python",
   "name": "python",
   "nbconvert_exporter": "python",
   "pygments_lexer": "ipython3",
   "version": "3.6.7"
  }
 },
 "nbformat": 4,
 "nbformat_minor": 2
}
